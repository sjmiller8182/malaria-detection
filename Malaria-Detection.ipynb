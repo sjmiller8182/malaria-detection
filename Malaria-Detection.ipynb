{
 "cells": [
  {
   "cell_type": "markdown",
   "metadata": {},
   "source": [
    "# Malaria Detection Project\n",
    "\n",
    "by Stuart Miller\n",
    "\n",
    "Data was downloaded from [Kaggle](https://www.kaggle.com/iarunava/cell-images-for-detecting-malaria).\n",
    "\n",
    "**Goal**: create a model that could be used to help humans identify cells infected with malaria.\n",
    "\n",
    "## Import needed libraries"
   ]
  },
  {
   "cell_type": "code",
   "execution_count": 36,
   "metadata": {},
   "outputs": [
    {
     "name": "stderr",
     "output_type": "stream",
     "text": [
      "Using TensorFlow backend.\n"
     ]
    }
   ],
   "source": [
    "try:\n",
    "    import glob\n",
    "    import numpy as np\n",
    "    import pandas as pd\n",
    "    import matplotlib.pyplot as plt\n",
    "    from sklearn.model_selection import train_test_split\n",
    "\n",
    "    from PIL import Image\n",
    "    %matplotlib inline\n",
    "\n",
    "    import keras\n",
    "    from keras.layers import Convolution2D, MaxPooling2D, Flatten, Dense, BatchNormalization, Dropout\n",
    "    from keras.models import Sequential\n",
    "except:\n",
    "    print(\"Unable to import all needed libraries\")"
   ]
  },
  {
   "cell_type": "markdown",
   "metadata": {},
   "source": [
    "## Load Data\n",
    "\n",
    "1. Get locations of downloaded data\n",
    "2. Show a sample of each type of image\n",
    "3. Read in data to list\n",
    "    * images as np.arrays\n",
    "    * labels as 0 - infected, 1 - uninfected"
   ]
  },
  {
   "cell_type": "code",
   "execution_count": 2,
   "metadata": {},
   "outputs": [],
   "source": [
    "MAIN_DATA_PATH = '~/SDD1/data/cell_images/*'\n",
    "\n",
    "# get image paths\n",
    "uninfected_img = glob.glob(MAIN_DATA_PATH + 'Uninfected/*')\n",
    "infected_img = glob.glob(MAIN_DATA_PATH + 'Parasitized/*')"
   ]
  },
  {
   "cell_type": "code",
   "execution_count": 3,
   "metadata": {
    "scrolled": false
   },
   "outputs": [
    {
     "ename": "NameError",
     "evalue": "name 'Image' is not defined",
     "output_type": "error",
     "traceback": [
      "\u001b[0;31m---------------------------------------------------------------------------\u001b[0m",
      "\u001b[0;31mNameError\u001b[0m                                 Traceback (most recent call last)",
      "\u001b[0;32m<ipython-input-3-8746b24c887f>\u001b[0m in \u001b[0;36m<module>\u001b[0;34m\u001b[0m\n\u001b[1;32m      3\u001b[0m \u001b[0mfig\u001b[0m\u001b[0;34m,\u001b[0m \u001b[0max\u001b[0m \u001b[0;34m=\u001b[0m \u001b[0mplt\u001b[0m\u001b[0;34m.\u001b[0m\u001b[0msubplots\u001b[0m\u001b[0;34m(\u001b[0m\u001b[0mncols\u001b[0m \u001b[0;34m=\u001b[0m \u001b[0;36m2\u001b[0m\u001b[0;34m,\u001b[0m \u001b[0mnrows\u001b[0m \u001b[0;34m=\u001b[0m \u001b[0;36m1\u001b[0m\u001b[0;34m,\u001b[0m \u001b[0mfigsize\u001b[0m\u001b[0;34m=\u001b[0m\u001b[0;34m(\u001b[0m\u001b[0;36m15\u001b[0m\u001b[0;34m,\u001b[0m \u001b[0;36m7\u001b[0m\u001b[0;34m)\u001b[0m\u001b[0;34m)\u001b[0m\u001b[0;34m;\u001b[0m\u001b[0;34m\u001b[0m\u001b[0m\n\u001b[1;32m      4\u001b[0m \u001b[0;34m\u001b[0m\u001b[0m\n\u001b[0;32m----> 5\u001b[0;31m \u001b[0muninfected_image\u001b[0m \u001b[0;34m=\u001b[0m \u001b[0mImage\u001b[0m\u001b[0;34m.\u001b[0m\u001b[0mopen\u001b[0m\u001b[0;34m(\u001b[0m\u001b[0muninfected_img\u001b[0m\u001b[0;34m[\u001b[0m\u001b[0;36m5\u001b[0m\u001b[0;34m]\u001b[0m\u001b[0;34m)\u001b[0m\u001b[0;34m\u001b[0m\u001b[0m\n\u001b[0m\u001b[1;32m      6\u001b[0m \u001b[0max\u001b[0m\u001b[0;34m[\u001b[0m\u001b[0;36m0\u001b[0m\u001b[0;34m]\u001b[0m\u001b[0;34m.\u001b[0m\u001b[0mimshow\u001b[0m\u001b[0;34m(\u001b[0m\u001b[0muninfected_image\u001b[0m\u001b[0;34m)\u001b[0m\u001b[0;34m;\u001b[0m\u001b[0;34m\u001b[0m\u001b[0m\n\u001b[1;32m      7\u001b[0m \u001b[0max\u001b[0m\u001b[0;34m[\u001b[0m\u001b[0;36m0\u001b[0m\u001b[0;34m]\u001b[0m\u001b[0;34m.\u001b[0m\u001b[0mset_title\u001b[0m\u001b[0;34m(\u001b[0m\u001b[0;34m'Sample Uninfected Image'\u001b[0m\u001b[0;34m)\u001b[0m\u001b[0;34m;\u001b[0m\u001b[0;34m\u001b[0m\u001b[0m\n",
      "\u001b[0;31mNameError\u001b[0m: name 'Image' is not defined"
     ]
    },
    {
     "data": {
      "image/png": "[encoded data removed]",
      "text/plain": [
       "<Figure size 1080x504 with 2 Axes>"
      ]
     },
     "metadata": {
      "needs_background": "light"
     },
     "output_type": "display_data"
    }
   ],
   "source": [
    "# visualize some sample images\n",
    "\n",
    "fig, ax = plt.subplots(ncols = 2, nrows = 1, figsize=(15, 7));\n",
    "\n",
    "uninfected_image = Image.open(uninfected_img[5])\n",
    "ax[0].imshow(uninfected_image);\n",
    "ax[0].set_title('Sample Uninfected Image');\n",
    "infected_image = Image.open(infected_img[5])\n",
    "ax[1].imshow(infected_image);\n",
    "ax[1].set_title('Sample Infected Image');"
   ]
  },
  {
   "cell_type": "code",
   "execution_count": null,
   "metadata": {},
   "outputs": [],
   "source": [
    "IM_SIZE = 128\n",
    "images = list()\n",
    "labels = list()\n",
    "\n",
    "# read in the infected images\n",
    "# label as 0\n",
    "for im in infected_img:\n",
    "    try:\n",
    "        image = Image.open(im)\n",
    "        image = image.resize((IM_SIZE,IM_SIZE))\n",
    "        images.append(np.array(image))\n",
    "        labels.append(0)\n",
    "    except:\n",
    "        print(\"could not open \" + im)\n",
    "        \n",
    "# read in the uninfected images\n",
    "# label as 1\n",
    "for im in uninfected_img:\n",
    "    try:\n",
    "        image = Image.open(im)\n",
    "        image = image.resize((IM_SIZE,IM_SIZE))\n",
    "        images.append(np.array(image))\n",
    "        labels.append(1)\n",
    "    except:\n",
    "        print(\"Could not open \" + im)"
   ]
  },
  {
   "cell_type": "code",
   "execution_count": null,
   "metadata": {},
   "outputs": [],
   "source": []
  }
 ],
 "metadata": {
  "kernelspec": {
   "display_name": "Python 3",
   "language": "python",
   "name": "python3"
  },
  "language_info": {
   "codemirror_mode": {
    "name": "ipython",
    "version": 3
   },
   "file_extension": ".py",
   "mimetype": "text/x-python",
   "name": "python",
   "nbconvert_exporter": "python",
   "pygments_lexer": "ipython3",
   "version": "3.6.6"
  }
 },
 "nbformat": 4,
 "nbformat_minor": 2
}
